{
  "cells": [
    {
      "cell_type": "code",
      "execution_count": 1,
      "metadata": {
        "colab": {
          "base_uri": "https://localhost:8080/"
        },
        "id": "12ULjlfvMKmF",
        "outputId": "685be3e0-324f-4073-87b5-5b3c585236a0"
      },
      "outputs": [
        {
          "name": "stdout",
          "output_type": "stream",
          "text": [
            "56\n"
          ]
        }
      ],
      "source": [
        "#Generate Random Number\n",
        "#NumPy offers the random module to work with random numbers.\n",
        "\n",
        "#Generate a random integer from 0 to 100:\n",
        "\n",
        "from numpy import random\n",
        "\n",
        "x = random.randint(100)\n",
        "\n",
        "print(x)"
      ]
    },
    {
      "cell_type": "code",
      "execution_count": 2,
      "metadata": {
        "colab": {
          "base_uri": "https://localhost:8080/"
        },
        "id": "f8qjImsXMXD2",
        "outputId": "c5a6b2d3-fbe2-47f3-f904-658e17127c6a"
      },
      "outputs": [
        {
          "name": "stdout",
          "output_type": "stream",
          "text": [
            "0.7567155334413518\n"
          ]
        }
      ],
      "source": [
        "#The random module's rand() method returns a random float between 0 and 1.\n",
        "\n",
        "#Generate a random float from 0 to 1:\n",
        "\n",
        "from numpy import random\n",
        "\n",
        "x = random.rand()\n",
        "\n",
        "print(x)"
      ]
    },
    {
      "cell_type": "code",
      "execution_count": 3,
      "metadata": {
        "colab": {
          "base_uri": "https://localhost:8080/"
        },
        "id": "YNCDOjl4Mjoi",
        "outputId": "1c9e4b97-0e00-40da-a269-9966cd384c3f"
      },
      "outputs": [
        {
          "name": "stdout",
          "output_type": "stream",
          "text": [
            "[ 1 25 13 75 63]\n"
          ]
        }
      ],
      "source": [
        "#Generate a 1-D array containing 5 random integers from 0 to 100:\n",
        "\n",
        "from numpy import random\n",
        "\n",
        "x=random.randint(100, size=(5))\n",
        "\n",
        "print(x)"
      ]
    },
    {
      "cell_type": "code",
      "execution_count": 4,
      "metadata": {
        "colab": {
          "base_uri": "https://localhost:8080/"
        },
        "id": "R8L5k9zuMwqi",
        "outputId": "2229c9c2-c4d9-4a96-a156-e712ad4b2ce7"
      },
      "outputs": [
        {
          "name": "stdout",
          "output_type": "stream",
          "text": [
            "[0.65356656 0.01655336 0.47571179 0.72519591 0.85944667]\n"
          ]
        }
      ],
      "source": [
        "#Generate a 1-D array containing 5 random floats:\n",
        "\n",
        "from numpy import random\n",
        "\n",
        "x = random.rand(5)\n",
        "\n",
        "print(x)\n"
      ]
    },
    {
      "cell_type": "code",
      "execution_count": 5,
      "metadata": {
        "colab": {
          "base_uri": "https://localhost:8080/"
        },
        "id": "JPNsCxfnM_Pz",
        "outputId": "81d4515a-4226-49fc-d5ba-a88986a624a2"
      },
      "outputs": [
        {
          "name": "stdout",
          "output_type": "stream",
          "text": [
            "5\n"
          ]
        }
      ],
      "source": [
        "#The choice() method takes an array as a parameter and randomly returns one of the values.\n",
        "\n",
        "\n",
        "#Return one of the values in an array:\n",
        "\n",
        "from numpy import random\n",
        "\n",
        "x = random.choice([3, 5, 7, 9])\n",
        "\n",
        "print(x)\n"
      ]
    },
    {
      "cell_type": "code",
      "execution_count": 6,
      "metadata": {
        "colab": {
          "base_uri": "https://localhost:8080/"
        },
        "id": "xCXTbtIHNJ0_",
        "outputId": "b1e8f424-7583-457c-e40a-9bfc47632295"
      },
      "outputs": [
        {
          "name": "stdout",
          "output_type": "stream",
          "text": [
            "[[3 7 3 9 5]\n",
            " [9 7 3 7 7]\n",
            " [5 5 7 3 9]]\n"
          ]
        }
      ],
      "source": [
        "#Generate a 2-D array that consists of the values in the array parameter (3, 5, 7, and 9):\n",
        "\n",
        "from numpy import random\n",
        "\n",
        "x = random.choice([3, 5, 7, 9], size=(3, 5))\n",
        "\n",
        "print(x)"
      ]
    },
    {
      "cell_type": "code",
      "execution_count": 9,
      "metadata": {
        "colab": {
          "base_uri": "https://localhost:8080/"
        },
        "id": "KmVfbPqONTzK",
        "outputId": "e7f9d9c4-e2e8-4941-d3c9-20ea661f988b"
      },
      "outputs": [
        {
          "name": "stdout",
          "output_type": "stream",
          "text": [
            "244\n",
            "244\n",
            "607\n"
          ]
        }
      ],
      "source": [
        "#seed()\n",
        "\n",
        "\"\"\"it can generate same random numbers on multiple executions of the code on the same machine or\n",
        "on different machines (for a specific seed value). The seed value is the previous value number generated by the generator.\n",
        "For the first time when there is no previous value, it uses current system time. \"\"\"\n",
        "\n",
        "# importing random module\n",
        "import random\n",
        "\n",
        "random.seed(3)\n",
        "\n",
        "# print a random number between 1 and 1000.\n",
        "print(random.randint(1, 1000))\n",
        "\n",
        "# if you want to get the same random number again then,\n",
        "random.seed(3)\n",
        "print(random.randint(1, 1000))\n",
        "\n",
        "# If seed function is not used\n",
        "\n",
        "# Gives totally unpredictable responses.\n",
        "print(random.randint(1, 1000))\n"
      ]
    },
    {
      "cell_type": "code",
      "execution_count": 10,
      "metadata": {
        "colab": {
          "base_uri": "https://localhost:8080/"
        },
        "id": "idPpOGQeUz1K",
        "outputId": "5489cf68-723f-4e4a-e8ba-d43707c09fb3"
      },
      "outputs": [
        {
          "name": "stdout",
          "output_type": "stream",
          "text": [
            "865\n",
            "865\n",
            "865\n",
            "865\n",
            "865\n"
          ]
        }
      ],
      "source": [
        "# random module is imported\n",
        "import random\n",
        "for i in range(5):\n",
        "\n",
        "\t# Any number can be used in place of '0'.\n",
        "\trandom.seed(0)\n",
        "\n",
        "\t# Generated random number will be between 1 to 1000.\n",
        "\tprint(random.randint(1, 1000))\n",
        "\n"
      ]
    },
    {
      "cell_type": "code",
      "execution_count": 12,
      "metadata": {
        "colab": {
          "base_uri": "https://localhost:8080/"
        },
        "id": "NRqDgaRDVH3U",
        "outputId": "8ac77a90-c769-4afe-d9ba-84046f2c77fe"
      },
      "outputs": [
        {
          "name": "stdout",
          "output_type": "stream",
          "text": [
            "The random number generated between 4 and 9 is : 11.560975683348524\n"
          ]
        }
      ],
      "source": [
        "# uniform\n",
        "#Code to generate float random number.\n",
        "\n",
        "\n",
        "\n",
        "# for using uniform()\n",
        "import random\n",
        "\n",
        "# initializing bounds\n",
        "a = 8\n",
        "b = 12\n",
        "\n",
        "\n",
        "# printing the random number\n",
        "print(\"The random number generated between 4 and 9 is : \", end =\"\")\n",
        "print(random.uniform(a, b))"
      ]
    },
    {
      "cell_type": "code",
      "execution_count": 13,
      "metadata": {
        "colab": {
          "base_uri": "https://localhost:8080/"
        },
        "id": "vQnTOfLTWzII",
        "outputId": "a3bdc795-e2f3-4335-a496-bde6788806cf"
      },
      "outputs": [
        {
          "name": "stdout",
          "output_type": "stream",
          "text": [
            "3\n"
          ]
        }
      ],
      "source": [
        "#Return a number between 3 and 9:\n",
        "\n",
        "import random\n",
        "\n",
        "print(random.randrange(3, 9))\n"
      ]
    },
    {
      "cell_type": "code",
      "execution_count": null,
      "metadata": {
        "id": "dWRGVljwXlGu"
      },
      "outputs": [],
      "source": []
    }
  ],
  "metadata": {
    "colab": {
      "provenance": []
    },
    "kernelspec": {
      "display_name": "Python 3",
      "name": "python3"
    },
    "language_info": {
      "name": "python"
    }
  },
  "nbformat": 4,
  "nbformat_minor": 0
}
