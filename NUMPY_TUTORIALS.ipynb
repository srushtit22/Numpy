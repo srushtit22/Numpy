{
  "cells": [
    {
      "attachments": {},
      "cell_type": "markdown",
      "id": "db2f9c37",
      "metadata": {
        "id": "db2f9c37"
      },
      "source": [
        " **occupies less memory\n",
        "**faster   \n",
        "**more **convenient**\n",
        "\n",
        "\n"
      ]
    },
    {
      "cell_type": "code",
      "execution_count": null,
      "id": "8808c986",
      "metadata": {
        "id": "8808c986"
      },
      "outputs": [],
      "source": [
        "import numpy as np\n",
        "import time\n",
        "import sys"
      ]
    },
    {
      "cell_type": "code",
      "execution_count": null,
      "id": "9071be37",
      "metadata": {
        "id": "9071be37"
      },
      "outputs": [],
      "source": [
        "r = np.array([2,3,4,5])"
      ]
    },
    {
      "cell_type": "code",
      "execution_count": null,
      "id": "ba33268f",
      "metadata": {
        "id": "ba33268f"
      },
      "outputs": [],
      "source": [
        "a= np.arange(1000)"
      ]
    },
    {
      "cell_type": "code",
      "execution_count": null,
      "id": "45af3e91",
      "metadata": {
        "id": "45af3e91",
        "outputId": "2246630a-0681-4ea0-d6cc-a782466133b8"
      },
      "outputs": [
        {
          "name": "stdout",
          "output_type": "stream",
          "text": [
            "[2 3 4 5]\n"
          ]
        }
      ],
      "source": [
        "print(r)"
      ]
    },
    {
      "cell_type": "code",
      "execution_count": null,
      "id": "6238ac0e",
      "metadata": {
        "id": "6238ac0e"
      },
      "outputs": [],
      "source": [
        "#print(a)"
      ]
    },
    {
      "cell_type": "code",
      "execution_count": null,
      "id": "02779f5e",
      "metadata": {
        "id": "02779f5e"
      },
      "outputs": [],
      "source": [
        "# list\n",
        "l= range(1000)"
      ]
    },
    {
      "cell_type": "code",
      "execution_count": null,
      "id": "03a17912",
      "metadata": {
        "id": "03a17912",
        "outputId": "d4c10d63-f605-484c-ce36-994a1d3cc997"
      },
      "outputs": [
        {
          "name": "stdout",
          "output_type": "stream",
          "text": [
            "range(0, 1000)\n"
          ]
        }
      ],
      "source": [
        "print(l)"
      ]
    },
    {
      "cell_type": "code",
      "execution_count": null,
      "id": "c40ad222",
      "metadata": {
        "id": "c40ad222",
        "outputId": "7d5f5cc7-c17f-4f7a-e97a-29aa86b15022"
      },
      "outputs": [
        {
          "name": "stdout",
          "output_type": "stream",
          "text": [
            "28000\n",
            "4000\n"
          ]
        }
      ],
      "source": [
        "# size of list l\n",
        "print(sys.getsizeof(4)*len(l))\n",
        "#size of numpy array a\n",
        "print(a.size*a.itemsize)"
      ]
    },
    {
      "cell_type": "code",
      "execution_count": null,
      "id": "9ea422b8",
      "metadata": {
        "id": "9ea422b8",
        "outputId": "06c06063-13f3-4538-9644-36bb4c706940"
      },
      "outputs": [
        {
          "name": "stdout",
          "output_type": "stream",
          "text": [
            "0.0\n",
            "0.08111000061035156\n"
          ]
        }
      ],
      "source": [
        "# faster than list\n",
        "# more convenient [easy  syntax]\n",
        "l1= range(100)\n",
        "l2= range(100)\n",
        "a1 = np.arange(100)\n",
        "a2 = np.arange(100)\n",
        "start=time.time()\n",
        "result_l =[(x,y) for  x,y in zip(l1,l2)]\n",
        "print((time.time()-start)*100)\n",
        "start=time.time()\n",
        "result_a = a1+a2\n",
        "print((time.time()-start)*100)"
      ]
    },
    {
      "cell_type": "code",
      "execution_count": null,
      "id": "48f34740",
      "metadata": {
        "id": "48f34740",
        "outputId": "75a38a84-6a4f-4b72-bb4a-0891f6a62625"
      },
      "outputs": [
        {
          "name": "stdout",
          "output_type": "stream",
          "text": [
            "[[1 2]\n",
            " [4 5]\n",
            " [7 8]]\n",
            "dimention :  2\n",
            "4\n",
            "total num  6\n",
            "int32\n"
          ]
        }
      ],
      "source": [
        "# find the dimension of array\n",
        "a= np.array([(1,2),(4,5),(7,8)])\n",
        "print(a)\n",
        "print(\"dimention : \",a.ndim)\n",
        "# find  byte size of each element\n",
        "print(a.itemsize)\n",
        "# total number of elements in array\n",
        "print( \"total num \",a.size)\n",
        "# find type of the elements\n",
        "print(a.dtype)"
      ]
    },
    {
      "cell_type": "code",
      "execution_count": null,
      "id": "ec5fc709",
      "metadata": {
        "id": "ec5fc709",
        "outputId": "8f904818-6253-4b5b-ef55-a0bdb1724b42"
      },
      "outputs": [
        {
          "name": "stdout",
          "output_type": "stream",
          "text": [
            "(3, 2)\n",
            "[[3 5]\n",
            " [2 3]\n",
            " [7 6]]\n",
            "shape :  (3, 2)\n",
            "[[3 5 2]\n",
            " [3 7 6]]\n"
          ]
        }
      ],
      "source": [
        "# shape (number  row & column)\n",
        "print(a.shape)\n",
        "#Reshape  means change number of rows and column\n",
        "r1 = np.array([(3,5),(2,3),(7,6)])\n",
        "print(r1)\n",
        "print(\"shape : \",r1.shape)\n",
        "r1= r1.reshape(2,3)\n",
        "print(r1)"
      ]
    },
    {
      "cell_type": "code",
      "execution_count": null,
      "id": "fb76a08a",
      "metadata": {
        "id": "fb76a08a",
        "outputId": "d6e782d4-669c-4c39-d513-91250cbba648"
      },
      "outputs": [
        {
          "name": "stdout",
          "output_type": "stream",
          "text": [
            "[[1 2]\n",
            " [4 5]\n",
            " [7 8]]\n",
            "4\n",
            "[[1 2]\n",
            " [7 8]]\n",
            "[1 4]\n",
            "[2]\n",
            "[2 5 8]\n"
          ]
        }
      ],
      "source": [
        "#slicing\n",
        "\n",
        "a= np.array([(1,2),(4,5),(7,8)])\n",
        "print(a)\n",
        "\n",
        "print(a[1,0])\n",
        "print(a[0: :2])\n",
        "\n",
        "#print(a[row, column])\n",
        "print(a[0:2,0])\n",
        "print(a[0:1,1])\n",
        "\n",
        "#print 1 column elements\n",
        "print(a[ : ,1])"
      ]
    },
    {
      "cell_type": "code",
      "execution_count": null,
      "id": "5896fc97",
      "metadata": {
        "id": "5896fc97",
        "outputId": "e785bda0-e93e-4c3a-dda2-6a943ed83b8a"
      },
      "outputs": [
        {
          "name": "stdout",
          "output_type": "stream",
          "text": [
            "27\n",
            "[12 15]\n",
            "[ 3  9 15]\n"
          ]
        }
      ],
      "source": [
        "# sum\n",
        "print(a.sum())\n",
        "#sum of columns\n",
        "print(a.sum(axis=0))\n",
        "#sum of rows\n",
        "print(a.sum(axis=1))"
      ]
    },
    {
      "cell_type": "code",
      "execution_count": null,
      "id": "d7ccbbbf",
      "metadata": {
        "id": "d7ccbbbf",
        "outputId": "3ba38483-f702-4a9e-f4d6-18a239ff12ea"
      },
      "outputs": [
        {
          "name": "stdout",
          "output_type": "stream",
          "text": [
            "[[1.         1.41421356]\n",
            " [2.         2.23606798]\n",
            " [2.64575131 2.82842712]]\n",
            "2.5\n"
          ]
        }
      ],
      "source": [
        "# find square root of array\n",
        "print(np.sqrt(a))\n",
        "print(np.std(a))"
      ]
    },
    {
      "cell_type": "code",
      "execution_count": null,
      "id": "75b1537b",
      "metadata": {
        "id": "75b1537b",
        "outputId": "f41e7cc0-4f6e-440f-cb32-cfb92081848b"
      },
      "outputs": [
        {
          "name": "stdout",
          "output_type": "stream",
          "text": [
            "[[ 3  8 10]\n",
            " [12  8  9]]\n",
            "[[2.  1.  1. ]\n",
            " [1.  1.  3.5]]\n",
            "[[2 4 5]\n",
            " [6 4 7]]\n",
            "[[1 4 5]\n",
            " [6 4 2]]\n",
            "[[2 4 5]\n",
            " [6 4 7]\n",
            " [1 4 5]\n",
            " [6 4 2]]\n",
            "[[2 4 5 1 4 5]\n",
            " [6 4 7 6 4 2]]\n",
            "[2 4 5 6 4 7]\n"
          ]
        }
      ],
      "source": [
        "# operations on numpy array\n",
        "\n",
        "s1 = np.array([(2,4,5),(6,4,7)])\n",
        "s2 = np.array([(1,4,5),(6,4,2)])\n",
        "print(s1+s2)\n",
        "print(s1/s2)\n",
        "\n",
        "print(s1)\n",
        "print(s2)\n",
        "# concatenation of two arrays horizontally and vertically\n",
        "print(np.vstack((s1,s2)) )\n",
        "\n",
        "print(np.hstack((s1,s2)))\n",
        "\n",
        "# convert array into column\n",
        "print(s1.ravel())"
      ]
    },
    {
      "cell_type": "code",
      "execution_count": 24,
      "id": "M5Q9E7GPHxMz",
      "metadata": {
        "colab": {
          "base_uri": "https://localhost:8080/"
        },
        "id": "M5Q9E7GPHxMz",
        "outputId": "6d198387-32b0-432b-e4ea-47b1f1d91900"
      },
      "outputs": [
        {
          "name": "stdout",
          "output_type": "stream",
          "text": [
            "[42  2  3  4  5]\n",
            "[1 2 3 4 5]\n"
          ]
        }
      ],
      "source": [
        "# NumPy Array Copy vs View\n",
        "\n",
        "#Make a copy, change the original array, and display both arrays:\n",
        "\n",
        "arr = np.array([1, 2, 3, 4, 5])\n",
        "x = arr.copy()\n",
        "arr[0] = 42\n",
        "\n",
        "print(arr)\n",
        "print(x)\n",
        "\n",
        "#The copy SHOULD NOT be affected by the changes made to the original array."
      ]
    },
    {
      "cell_type": "code",
      "execution_count": 26,
      "id": "5vzto3bAH1EB",
      "metadata": {
        "colab": {
          "base_uri": "https://localhost:8080/"
        },
        "id": "5vzto3bAH1EB",
        "outputId": "9b56f10d-2429-4bc7-fb3b-7695406c282b"
      },
      "outputs": [
        {
          "name": "stdout",
          "output_type": "stream",
          "text": [
            "[42  2  3  4  5]\n",
            "[42  2  3  4  5]\n"
          ]
        }
      ],
      "source": [
        "#Make a view, change the original array, and display both arrays:\n",
        "\n",
        "import numpy as np\n",
        "\n",
        "arr = np.array([1, 2, 3, 4, 5])\n",
        "x = arr.view()\n",
        "arr[0] = 42\n",
        "\n",
        "print(arr)\n",
        "print(x)"
      ]
    },
    {
      "cell_type": "code",
      "execution_count": 27,
      "id": "BJHGyf1zISPc",
      "metadata": {
        "colab": {
          "base_uri": "https://localhost:8080/"
        },
        "id": "BJHGyf1zISPc",
        "outputId": "63a094e4-8a49-4e22-d964-f6cd8df308e9"
      },
      "outputs": [
        {
          "name": "stdout",
          "output_type": "stream",
          "text": [
            "None\n",
            "[1 2 3 4 5]\n"
          ]
        }
      ],
      "source": [
        "#Print the value of the base attribute to check if an array owns it's data or not:\n",
        "\n",
        "import numpy as np\n",
        "\n",
        "arr = np.array([1, 2, 3, 4, 5])\n",
        "\n",
        "x = arr.copy()\n",
        "y = arr.view()\n",
        "\n",
        "print(x.base)\n",
        "print(y.base)"
      ]
    },
    {
      "cell_type": "code",
      "execution_count": 2,
      "id": "3b925b7d",
      "metadata": {
        "colab": {
          "base_uri": "https://localhost:8080/"
        },
        "id": "3b925b7d",
        "outputId": "582e29fc-035f-4dda-e9ae-3d94b282f101"
      },
      "outputs": [
        {
          "name": "stdout",
          "output_type": "stream",
          "text": [
            "(array([3, 5, 6]),)\n"
          ]
        }
      ],
      "source": [
        "#Searching Arrays\n",
        "import numpy as np\n",
        "arr = np.array([1, 2, 3, 4, 5, 4, 4])\n",
        "\n",
        "x = np.where(arr == 4)\n",
        "\n",
        "print(x)"
      ]
    },
    {
      "cell_type": "code",
      "execution_count": 3,
      "id": "mWS9tQFbfKoR",
      "metadata": {
        "colab": {
          "base_uri": "https://localhost:8080/"
        },
        "id": "mWS9tQFbfKoR",
        "outputId": "bb6afcf1-6d85-43e3-fc73-7e1d20d96c5f"
      },
      "outputs": [
        {
          "name": "stdout",
          "output_type": "stream",
          "text": [
            "(array([3, 5, 6]),)\n"
          ]
        }
      ],
      "source": [
        "arr = np.array([1, 2, 3, 4, 5, 6, 7, 8])\n",
        "\n",
        "y = np.where(arr%2 == 0)\n",
        "\n",
        "print(x)"
      ]
    },
    {
      "cell_type": "code",
      "execution_count": 6,
      "id": "a2V-bbGofWQk",
      "metadata": {
        "id": "a2V-bbGofWQk"
      },
      "outputs": [],
      "source": [
        "#   *Splitting NumPy Arrays*\n",
        "# We use array_split() for splitting arrays, we pass it the array we want to split and the number of splits."
      ]
    },
    {
      "cell_type": "code",
      "execution_count": 7,
      "id": "YhMeQXTGfej0",
      "metadata": {
        "colab": {
          "base_uri": "https://localhost:8080/"
        },
        "id": "YhMeQXTGfej0",
        "outputId": "62aed570-97a5-4a27-9efb-db5a4b9a03e8"
      },
      "outputs": [
        {
          "name": "stdout",
          "output_type": "stream",
          "text": [
            "[array([1, 2]), array([3, 4]), array([5, 6])]\n"
          ]
        }
      ],
      "source": [
        "arr = np.array([1, 2, 3, 4, 5, 6])\n",
        "\n",
        "newarr = np.array_split(arr, 3)\n",
        "\n",
        "print(newarr)"
      ]
    },
    {
      "cell_type": "code",
      "execution_count": 8,
      "id": "4ErUpeEDfvLm",
      "metadata": {
        "colab": {
          "base_uri": "https://localhost:8080/"
        },
        "id": "4ErUpeEDfvLm",
        "outputId": "1e46e558-6767-42fa-d4e2-9597d531d107"
      },
      "outputs": [
        {
          "name": "stdout",
          "output_type": "stream",
          "text": [
            "[array([1, 2]), array([3, 4]), array([5]), array([6])]\n"
          ]
        }
      ],
      "source": [
        "arr = np.array([1, 2, 3, 4, 5, 6])\n",
        "\n",
        "newarr = np.array_split(arr, 4)\n",
        "\n",
        "print(newarr)"
      ]
    },
    {
      "cell_type": "code",
      "execution_count": 9,
      "id": "dZavvYiAf0fg",
      "metadata": {
        "colab": {
          "base_uri": "https://localhost:8080/"
        },
        "id": "dZavvYiAf0fg",
        "outputId": "1fcd954e-bf58-4642-f930-449766011bcc"
      },
      "outputs": [
        {
          "name": "stdout",
          "output_type": "stream",
          "text": [
            "[False  True False  True False  True False]\n",
            "[2 4 6]\n"
          ]
        }
      ],
      "source": [
        "#  Filtering Arrays\n",
        "\n",
        "arr = np.array([1, 2, 3, 4, 5, 6, 7])\n",
        "\n",
        "filter_arr = arr % 2 == 0\n",
        "\n",
        "newarr = arr[filter_arr]\n",
        "\n",
        "print(filter_arr)\n",
        "print(newarr)"
      ]
    },
    {
      "cell_type": "code",
      "execution_count": 10,
      "id": "KuP0mCUEgczI",
      "metadata": {
        "colab": {
          "base_uri": "https://localhost:8080/"
        },
        "id": "KuP0mCUEgczI",
        "outputId": "13ce7b0f-b62c-452f-83f9-720075a515f7"
      },
      "outputs": [
        {
          "name": "stdout",
          "output_type": "stream",
          "text": [
            "[5, 7, 9, 11]\n",
            "[ 5  7  9 11]\n"
          ]
        }
      ],
      "source": [
        "#   ufunc in numpy\n",
        "\n",
        "x = [1, 2, 3, 4]\n",
        "y = [4, 5, 6, 7]\n",
        "z = []\n",
        "\n",
        "#without ufunc\n",
        "for i, j in zip(x, y):\n",
        "  z.append(i + j)\n",
        "print(z)\n",
        "\n",
        "\n",
        "# ufunc\n",
        "w = np.add(x, y)\n",
        "\n",
        "print(w)"
      ]
    },
    {
      "cell_type": "code",
      "execution_count": 11,
      "id": "MR4Y3JGMgx3q",
      "metadata": {
        "colab": {
          "base_uri": "https://localhost:8080/"
        },
        "id": "MR4Y3JGMgx3q",
        "outputId": "813641c2-5e35-4478-ecbd-10458a4abd76"
      },
      "outputs": [
        {
          "name": "stdout",
          "output_type": "stream",
          "text": [
            "[6 8 10 12]\n"
          ]
        }
      ],
      "source": [
        "# create your own universal function\n",
        "\n",
        "def myadd(x, y):\n",
        "  return x+y\n",
        "\n",
        "myadd = np.frompyfunc(myadd, 2, 1)\n",
        "\n",
        "print(myadd([1, 2, 3, 4], [5, 6, 7, 8]))"
      ]
    },
    {
      "cell_type": "code",
      "execution_count": 14,
      "id": "yTVFWEyMhBKj",
      "metadata": {
        "colab": {
          "base_uri": "https://localhost:8080/"
        },
        "id": "yTVFWEyMhBKj",
        "outputId": "e0a321f5-92d1-4cf3-918d-89f1003a7867"
      },
      "outputs": [
        {
          "name": "stdout",
          "output_type": "stream",
          "text": [
            "<class 'numpy.ufunc'>\n"
          ]
        }
      ],
      "source": [
        "# Check if a Function is a ufunc\n",
        "\n",
        "print(type(np.add))"
      ]
    },
    {
      "cell_type": "code",
      "execution_count": 15,
      "id": "uLBuySoHhLch",
      "metadata": {
        "colab": {
          "base_uri": "https://localhost:8080/"
        },
        "id": "uLBuySoHhLch",
        "outputId": "1f62f5c4-d05c-430a-ce02-aba35482f762"
      },
      "outputs": [
        {
          "name": "stdout",
          "output_type": "stream",
          "text": [
            "<class 'numpy._ArrayFunctionDispatcher'>\n"
          ]
        }
      ],
      "source": [
        "# If it is not a ufunc, it will return another type, like this built-in NumPy function for joining two or more arrays:\n",
        "\n",
        "print(type(np.concatenate))"
      ]
    },
    {
      "cell_type": "code",
      "execution_count": 17,
      "id": "o1WpH2NNhbtP",
      "metadata": {
        "colab": {
          "base_uri": "https://localhost:8080/"
        },
        "id": "o1WpH2NNhbtP",
        "outputId": "ec65d4a2-14a9-426c-8693-f6eac64c621e"
      },
      "outputs": [
        {
          "name": "stdout",
          "output_type": "stream",
          "text": [
            "[-3.  3.]\n",
            "[-3.  3.]\n",
            "3.17\n",
            "[-4.  3.]\n",
            "[-3.  4.]\n"
          ]
        }
      ],
      "source": [
        "#   Rounding Decimals\n",
        "# truncation\n",
        "#fix\n",
        "#around\n",
        "#floor\n",
        "#ceil\n",
        "\n",
        "#trunc\n",
        "\n",
        "arr = np.trunc([-3.1666, 3.6667])\n",
        "print(arr)\n",
        "\n",
        "# fix\n",
        "\n",
        "arr = np.fix([-3.1666, 3.6667])\n",
        "print(arr)\n",
        "\n",
        "#around\n",
        "\n",
        "arr = np.around(3.1666, 2)\n",
        "print(arr)\n",
        "\n",
        "# floor\n",
        "\n",
        "arr = np.floor([-3.1666, 3.6667])\n",
        "print(arr)\n",
        "\n",
        "#ceil\n",
        "\n",
        "arr = np.ceil([-3.1666, 3.6667])\n",
        "print(arr)"
      ]
    },
    {
      "cell_type": "code",
      "execution_count": 18,
      "id": "Ql1QFuLYh31f",
      "metadata": {
        "id": "Ql1QFuLYh31f"
      },
      "outputs": [],
      "source": [
        "#Log at Base 2\n",
        "#Use the log2() function to perform log at the base 2."
      ]
    },
    {
      "cell_type": "code",
      "execution_count": 19,
      "id": "Hn_uQuvti4Up",
      "metadata": {
        "colab": {
          "base_uri": "https://localhost:8080/"
        },
        "id": "Hn_uQuvti4Up",
        "outputId": "dbc72afc-9131-46ba-f214-62418c60269b"
      },
      "outputs": [
        {
          "name": "stdout",
          "output_type": "stream",
          "text": [
            "[0.         1.         1.5849625  2.         2.32192809 2.5849625\n",
            " 2.80735492 3.         3.169925  ]\n"
          ]
        }
      ],
      "source": [
        "arr = np.arange(1, 10)\n",
        "\n",
        "print(np.log2(arr))"
      ]
    },
    {
      "cell_type": "code",
      "execution_count": 20,
      "id": "mLMyXrvji7Dg",
      "metadata": {
        "id": "mLMyXrvji7Dg"
      },
      "outputs": [],
      "source": [
        "#What is the difference between summation and addition?\n",
        "\n",
        "#Addition is done between two arguments whereas summation happens over n elements."
      ]
    },
    {
      "cell_type": "code",
      "execution_count": 22,
      "id": "WogYy_CgjRKQ",
      "metadata": {
        "colab": {
          "base_uri": "https://localhost:8080/"
        },
        "id": "WogYy_CgjRKQ",
        "outputId": "a232b650-8dc8-42a8-d77f-1c8be52793d1"
      },
      "outputs": [
        {
          "name": "stdout",
          "output_type": "stream",
          "text": [
            "[2 6 6]\n",
            "39\n",
            "[26 16]\n"
          ]
        }
      ],
      "source": [
        "arr1 = np.array([1, 2, 3])\n",
        "arr2 = np.array([1, 4, 3])\n",
        "\n",
        "newarr = np.add(arr1, arr2)\n",
        "\n",
        "print(newarr)\n",
        "\n",
        "\n",
        "arr1 = np.array([1, 2, 3])\n",
        "arr2 = np.array([11, 10, 12])\n",
        "\n",
        "newarr = np.sum([arr1, arr2])\n",
        "\n",
        "print(newarr)\n",
        "\n",
        "arr1 = np.array([1, 22, 3])\n",
        "arr2 = np.array([11, 2, 3])\n",
        "\n",
        "newarr = np.sum([arr1, arr2], axis=1)\n",
        "\n",
        "print(newarr)"
      ]
    },
    {
      "cell_type": "code",
      "execution_count": 23,
      "id": "MoLovUlDjbNb",
      "metadata": {
        "colab": {
          "base_uri": "https://localhost:8080/"
        },
        "id": "MoLovUlDjbNb",
        "outputId": "4f8ede45-9d74-4938-9f14-8ddebab1f673"
      },
      "outputs": [
        {
          "name": "stdout",
          "output_type": "stream",
          "text": [
            "[  5  10 -20]\n"
          ]
        }
      ],
      "source": [
        "# A discrete difference means subtracting two successive elements.\n",
        "\n",
        "#E.g. for [1, 2, 3, 4], the discrete difference would be [2-1, 3-2, 4-3] = [1, 1, 1]\n",
        "\n",
        "#To find the discrete difference, use the diff() function.\n",
        "\n",
        "arr = np.array([10, 15, 25, 5])\n",
        "\n",
        "newarr = np.diff(arr)\n",
        "\n",
        "print(newarr)"
      ]
    },
    {
      "cell_type": "code",
      "execution_count": 24,
      "id": "-MC96A_5kRXj",
      "metadata": {
        "colab": {
          "base_uri": "https://localhost:8080/"
        },
        "id": "-MC96A_5kRXj",
        "outputId": "0b93f8d7-e8d2-4268-f267-961bb4f48ac5"
      },
      "outputs": [
        {
          "name": "stdout",
          "output_type": "stream",
          "text": [
            "[  5 -30]\n"
          ]
        }
      ],
      "source": [
        "#E.g. for [1, 2, 3, 4], the discrete difference with n = 2 would be [2-1, 3-2, 4-3] = [1, 1, 1] ,\n",
        "#then, since n=2, we will do it once more, with the new result: [1-1, 1-1] = [0, 0]\n",
        "\n",
        "arr = np.array([10, 15, 25, 5])\n",
        "\n",
        "newarr = np.diff(arr, n=2)\n",
        "\n",
        "print(newarr)"
      ]
    },
    {
      "cell_type": "code",
      "execution_count": 2,
      "id": "KsarcaODkpIK",
      "metadata": {
        "colab": {
          "base_uri": "https://localhost:8080/"
        },
        "id": "KsarcaODkpIK",
        "outputId": "680ac8e4-3e90-41bb-91e2-3365eb99c65f"
      },
      "outputs": [
        {
          "name": "stdout",
          "output_type": "stream",
          "text": [
            "12\n",
            "18\n"
          ]
        }
      ],
      "source": [
        "# The Lowest Common Multiple is the smallest number that is a common multiple of two numbers.\n",
        "#Find the LCM of the following two numbers:\n",
        "\n",
        "import numpy as np\n",
        "num1 = 4\n",
        "num2 = 6\n",
        "\n",
        "x = np.lcm(num1, num2)\n",
        "\n",
        "print(x)\n",
        "\n",
        "\n",
        "#Find the LCM of the values of the following array:\n",
        "arr = np.array([3, 6, 9])\n",
        "\n",
        "x = np.lcm.reduce(arr)\n",
        "\n",
        "print(x)\n",
        "\n",
        "\n"
      ]
    },
    {
      "cell_type": "code",
      "execution_count": 3,
      "id": "P-vPkPm5FPTg",
      "metadata": {
        "id": "P-vPkPm5FPTg"
      },
      "outputs": [],
      "source": [
        "#NumPy Trigonometric Functions"
      ]
    },
    {
      "cell_type": "code",
      "execution_count": 4,
      "id": "9dcmlUNdExpO",
      "metadata": {
        "colab": {
          "base_uri": "https://localhost:8080/"
        },
        "id": "9dcmlUNdExpO",
        "outputId": "a744cafb-54fe-4579-a584-c1aed40a4b30"
      },
      "outputs": [
        {
          "name": "stdout",
          "output_type": "stream",
          "text": [
            "[1.         0.8660254  0.70710678 0.58778525]\n"
          ]
        }
      ],
      "source": [
        "# sin\n",
        "arr = np.array([np.pi/2, np.pi/3, np.pi/4, np.pi/5])\n",
        "\n",
        "x = np.sin(arr)\n",
        "\n",
        "print(x)\n"
      ]
    },
    {
      "cell_type": "code",
      "execution_count": 5,
      "id": "9rvLcrj6FV0d",
      "metadata": {
        "colab": {
          "base_uri": "https://localhost:8080/"
        },
        "id": "9rvLcrj6FV0d",
        "outputId": "c3c36939-59b2-4060-ebb5-21470dcbd94f"
      },
      "outputs": [
        {
          "name": "stdout",
          "output_type": "stream",
          "text": [
            "[1.57079633 3.14159265 4.71238898 6.28318531]\n"
          ]
        }
      ],
      "source": [
        "#Convert all of the values in following array arr to radians:\n",
        "\n",
        "arr = np.array([90, 180, 270, 360])\n",
        "\n",
        "x = np.deg2rad(arr)\n",
        "\n",
        "print(x)"
      ]
    },
    {
      "cell_type": "code",
      "execution_count": 6,
      "id": "3rW4NicQFgV5",
      "metadata": {
        "colab": {
          "base_uri": "https://localhost:8080/"
        },
        "id": "3rW4NicQFgV5",
        "outputId": "7edb4ffd-5c54-4224-cfd7-240cbdd77d10"
      },
      "outputs": [
        {
          "name": "stdout",
          "output_type": "stream",
          "text": [
            "[ 90. 180. 270. 360.]\n"
          ]
        }
      ],
      "source": [
        "#Convert all of the values in following array arr to degrees:\n",
        "\n",
        "\n",
        "arr = np.array([np.pi/2, np.pi, 1.5*np.pi, 2*np.pi])\n",
        "\n",
        "x = np.rad2deg(arr)\n",
        "\n",
        "print(x)"
      ]
    },
    {
      "cell_type": "code",
      "execution_count": 7,
      "id": "tHHv7qQcFl-v",
      "metadata": {
        "id": "tHHv7qQcFl-v"
      },
      "outputs": [],
      "source": [
        "#NumPy Hyperbolic Functions"
      ]
    },
    {
      "cell_type": "code",
      "execution_count": 8,
      "id": "_LkrFyVrFvL3",
      "metadata": {
        "colab": {
          "base_uri": "https://localhost:8080/"
        },
        "id": "_LkrFyVrFvL3",
        "outputId": "f1320d72-f5c7-4b0b-b022-9942f1d1efdf"
      },
      "outputs": [
        {
          "name": "stdout",
          "output_type": "stream",
          "text": [
            "2.3012989023072947\n"
          ]
        }
      ],
      "source": [
        "#Find sinh value of PI/2:\n",
        "\n",
        "\n",
        "x = np.sinh(np.pi/2)\n",
        "\n",
        "print(x)"
      ]
    },
    {
      "cell_type": "code",
      "execution_count": 9,
      "id": "1njE-9r_F0AJ",
      "metadata": {
        "colab": {
          "base_uri": "https://localhost:8080/"
        },
        "id": "1njE-9r_F0AJ",
        "outputId": "af13a9c5-ae7e-4fc1-dfb4-b605c562934a"
      },
      "outputs": [
        {
          "name": "stdout",
          "output_type": "stream",
          "text": [
            "[2.50917848 1.60028686 1.32460909 1.20397209]\n"
          ]
        }
      ],
      "source": [
        "#Find cosh values for all of the values in arr:\n",
        "\n",
        "arr = np.array([np.pi/2, np.pi/3, np.pi/4, np.pi/5])\n",
        "\n",
        "x = np.cosh(arr)\n",
        "\n",
        "print(x)\n"
      ]
    },
    {
      "cell_type": "code",
      "execution_count": 10,
      "id": "qpTPqGcfF5OM",
      "metadata": {
        "id": "qpTPqGcfF5OM"
      },
      "outputs": [],
      "source": [
        "# Numpy set operations"
      ]
    },
    {
      "cell_type": "code",
      "execution_count": 18,
      "id": "A-iRVRrXGWue",
      "metadata": {
        "colab": {
          "base_uri": "https://localhost:8080/"
        },
        "id": "A-iRVRrXGWue",
        "outputId": "3893caf0-31b7-44d5-87a5-a997a068adca"
      },
      "outputs": [
        {
          "name": "stdout",
          "output_type": "stream",
          "text": [
            "[1 2 3 4 5 6 7]\n"
          ]
        }
      ],
      "source": [
        "#Convert following array with repeated elements to a set:\n",
        "\n",
        "\n",
        "arr = np.array([1, 1, 1, 2, 3, 4, 5, 5, 6, 7])\n",
        "\n",
        "x = np.unique(arr)\n",
        "\n",
        "print(x)\n"
      ]
    },
    {
      "cell_type": "code",
      "execution_count": 16,
      "id": "d2x6EUKzGYBh",
      "metadata": {
        "colab": {
          "base_uri": "https://localhost:8080/"
        },
        "id": "d2x6EUKzGYBh",
        "outputId": "ff9a36d3-9b0f-40a2-a31d-8744d894e19f"
      },
      "outputs": [
        {
          "name": "stdout",
          "output_type": "stream",
          "text": [
            "[1 2 3 4 5 6]\n"
          ]
        }
      ],
      "source": [
        "#Find union of the following two set arrays:\n",
        "\n",
        "\n",
        "arr1 = np.array([1, 2, 3, 4])\n",
        "arr2 = np.array([3, 4, 5, 6])\n",
        "\n",
        "newarr = np.union1d(arr1, arr2)\n",
        "\n",
        "print(newarr)"
      ]
    },
    {
      "cell_type": "code",
      "execution_count": 19,
      "id": "uXa1KfxgGek9",
      "metadata": {
        "colab": {
          "base_uri": "https://localhost:8080/"
        },
        "id": "uXa1KfxgGek9",
        "outputId": "24273732-c520-466e-f12a-88d558522431"
      },
      "outputs": [
        {
          "name": "stdout",
          "output_type": "stream",
          "text": [
            "[3 4]\n"
          ]
        }
      ],
      "source": [
        "#Find intersection of the following two set arrays:\n",
        "arr1 = np.array([1, 2, 3, 4])\n",
        "arr2 = np.array([3, 4, 5, 6])\n",
        "\n",
        "newarr = np.intersect1d(arr1, arr2,)\n",
        "\n",
        "print(newarr)"
      ]
    },
    {
      "cell_type": "code",
      "execution_count": 20,
      "id": "rzOWZKl3GqB9",
      "metadata": {
        "colab": {
          "base_uri": "https://localhost:8080/"
        },
        "id": "rzOWZKl3GqB9",
        "outputId": "37eac6aa-4d35-4c8a-e1dd-8d692568abf6"
      },
      "outputs": [
        {
          "name": "stdout",
          "output_type": "stream",
          "text": [
            "[1 2]\n"
          ]
        }
      ],
      "source": [
        "#Find the difference of the set1 from set2:\n",
        "\n",
        "\n",
        "set1 = np.array([1, 2, 3, 4])\n",
        "set2 = np.array([3, 4, 5, 6])\n",
        "\n",
        "newarr = np.setdiff1d(set1, set2, assume_unique=True)\n",
        "\n",
        "print(newarr)\n"
      ]
    },
    {
      "cell_type": "code",
      "execution_count": 21,
      "id": "Yg0SkRz9HAhu",
      "metadata": {
        "colab": {
          "base_uri": "https://localhost:8080/"
        },
        "id": "Yg0SkRz9HAhu",
        "outputId": "8774ee1f-9af3-40f1-a5dd-d9f799e73ac9"
      },
      "outputs": [
        {
          "name": "stdout",
          "output_type": "stream",
          "text": [
            "[1 2 5 6]\n"
          ]
        }
      ],
      "source": [
        "#Find the symmetric difference of the set1 and set2:\n",
        "#To find only the values that are NOT present in BOTH sets, use the setxor1d() method.\n",
        "\n",
        "set1 = np.array([1, 2, 3, 4])\n",
        "set2 = np.array([3, 4, 5, 6])\n",
        "\n",
        "newarr = np.setxor1d(set1, set2, assume_unique=True)\n",
        "\n",
        "print(newarr)"
      ]
    },
    {
      "cell_type": "code",
      "execution_count": null,
      "id": "PUG2ndF7HPsQ",
      "metadata": {
        "id": "PUG2ndF7HPsQ"
      },
      "outputs": [],
      "source": []
    }
  ],
  "metadata": {
    "colab": {
      "provenance": []
    },
    "kernelspec": {
      "display_name": "Python 3 (ipykernel)",
      "language": "python",
      "name": "python3"
    },
    "language_info": {
      "codemirror_mode": {
        "name": "ipython",
        "version": 3
      },
      "file_extension": ".py",
      "mimetype": "text/x-python",
      "name": "python",
      "nbconvert_exporter": "python",
      "pygments_lexer": "ipython3",
      "version": "3.9.13"
    }
  },
  "nbformat": 4,
  "nbformat_minor": 5
}
